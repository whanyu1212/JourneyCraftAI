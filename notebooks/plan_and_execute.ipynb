{
 "cells": [
  {
   "cell_type": "code",
   "execution_count": 1,
   "metadata": {},
   "outputs": [
    {
     "name": "stderr",
     "output_type": "stream",
     "text": [
      "WARNING:root:USER_AGENT environment variable not set, consider setting it to identify your requests.\n"
     ]
    },
    {
     "data": {
      "text/plain": [
       "True"
      ]
     },
     "execution_count": 1,
     "metadata": {},
     "output_type": "execute_result"
    }
   ],
   "source": [
    "import os\n",
    "import requests\n",
    "from dotenv import load_dotenv\n",
    "from langchain_community.vectorstores import FAISS # vector store\n",
    "from langchain_openai import ChatOpenAI,OpenAIEmbeddings # tend to use this whenever gemini runs into quota limit\n",
    "from langchain_google_vertexai import ChatVertexAI # runs into quota limit sometimes\n",
    "from langchain.pydantic_v1 import BaseModel, Field\n",
    "from langchain.tools import BaseTool, StructuredTool, tool\n",
    "from langchain_text_splitters import RecursiveCharacterTextSplitter\n",
    "from typing import Optional, Type\n",
    "from langchain.callbacks.manager import (\n",
    "    AsyncCallbackManagerForToolRun,\n",
    "    CallbackManagerForToolRun,\n",
    ")\n",
    "from langchain.tools.retriever import create_retriever_tool\n",
    "from langchain_community.document_loaders import WebBaseLoader # web document loader\n",
    "from langchain.agents import AgentExecutor, create_tool_calling_agent\n",
    "from langchain_core.prompts import ChatPromptTemplate\n",
    "from langchain_core.messages import SystemMessage\n",
    "from langgraph.checkpoint import MemorySaver  # an in-memory checkpointer\n",
    "from langgraph.prebuilt import create_react_agent\n",
    "load_dotenv()"
   ]
  },
  {
   "cell_type": "code",
   "execution_count": 2,
   "metadata": {},
   "outputs": [],
   "source": [
    "# For tracing and debugging\n",
    "os.environ[\"LANGCHAIN_TRACING_V2\"] = \"true\"\n",
    "\n",
    "# credential.json is not required if you are working within your own GCP project's vertex AI workbench\n",
    "os.environ[\"GOOGLE_APPLICATION_CREDENTIALS\"] = \"/workspaces/Transcendent/fleet-anagram-244304-7dafcc771b2f.json\"\n",
    "\n",
    "# if you are using text embedding model from google\n",
    "os.environ[\"GOOGLE_API_KEY\"] = os.getenv(\"GOOGLE_API_KEY\")\n",
    "\n",
    "GITHUB_ACCESS_TOKEN = os.getenv(\"GITHUB_ACCESS_TOKEN\")\n",
    "LANGCHAIN_API_KEY = os.getenv(\"LANGCHAIN_API_KEY\")\n",
    "GEMINI_API_KEY = os.getenv(\"GEMINI_API_KEY\")\n",
    "TAVILY_API_KEY = os.getenv(\"TAVILY_API_KEY\")\n",
    "OPENAI_API_KEY = os.getenv(\"OPENAI_API_KEY\")\n",
    "os.environ[\"LANGCHAIN_PROJECT\"] = \"Plan-and-execute\""
   ]
  },
  {
   "cell_type": "code",
   "execution_count": 3,
   "metadata": {},
   "outputs": [],
   "source": [
    "from langchain_community.tools.tavily_search import TavilySearchResults\n",
    "\n",
    "tools = [TavilySearchResults(max_results=5)]"
   ]
  },
  {
   "cell_type": "code",
   "execution_count": 4,
   "metadata": {},
   "outputs": [
    {
     "name": "stdout",
     "output_type": "stream",
     "text": [
      "================================\u001b[1m System Message \u001b[0m================================\n",
      "\n",
      "You are a helpful assistant.\n",
      "\n",
      "=============================\u001b[1m Messages Placeholder \u001b[0m=============================\n",
      "\n",
      "\u001b[33;1m\u001b[1;3m{{messages}}\u001b[0m\n"
     ]
    }
   ],
   "source": [
    "from langchain import hub\n",
    "from langchain_openai import ChatOpenAI\n",
    "\n",
    "from langgraph.prebuilt import create_react_agent\n",
    "\n",
    "# Get the prompt to use - you can modify this!\n",
    "prompt = hub.pull(\"wfh/react-agent-executor\")\n",
    "prompt.pretty_print()\n",
    "\n",
    "# Choose the LLM that will drive the agent\n",
    "llm = ChatOpenAI(model=\"gpt-4o\")\n",
    "agent_executor = create_react_agent(llm, tools, messages_modifier=prompt)"
   ]
  },
  {
   "cell_type": "code",
   "execution_count": 5,
   "metadata": {},
   "outputs": [],
   "source": [
    "response = agent_executor.invoke({\"messages\": [(\"user\", \"What are the popular destinations in Hokkaido, assuming we are going in summer? Create a list for both sightseeing and food and construct a dataset in geopandas format\")]})"
   ]
  },
  {
   "cell_type": "code",
   "execution_count": 6,
   "metadata": {},
   "outputs": [
    {
     "data": {
      "text/markdown": [
       "Based on the search results, here is a list of popular sightseeing and food destinations in Hokkaido for the summer:\n",
       "\n",
       "### Sightseeing Destinations:\n",
       "1. **Sapporo**:\n",
       "   - Capital city of Hokkaido, known for its vibrant city life, beer, and the annual Sapporo Summer Festival.\n",
       "2. **Asahikawa**:\n",
       "   - Famous for Asahiyama Zoo and its beautiful flower fields.\n",
       "3. **Biei**:\n",
       "   - Renowned for its picturesque rural landscapes and flower fields.\n",
       "4. **Furano**:\n",
       "   - Known for its lavender fields and vibrant flower gardens.\n",
       "5. **Hakodate**:\n",
       "   - Features historical sites like Fort Goryokaku and offers stunning night views from Mount Hakodate.\n",
       "6. **Daisetsuzan National Park**:\n",
       "   - Largest national park in Japan, great for hiking and experiencing natural hot springs.\n",
       "7. **Lake Toya**:\n",
       "   - A scenic caldera lake with hot spring resorts.\n",
       "8. **Noboribetsu**:\n",
       "   - Famous for its hot springs and Jigokudani (Hell Valley).\n",
       "9. **Otaru**:\n",
       "   - A port city known for its well-preserved canal area and glassworks.\n",
       "10. **Shakotan Peninsula**:\n",
       "    - Known for its rugged coastline and underwater marine park.\n",
       "\n",
       "### Food Destinations:\n",
       "1. **Sapporo**:\n",
       "   - Known for Sapporo Beer Festival and a variety of seafood.\n",
       "2. **Shakotan Peninsula**:\n",
       "   - Best sea urchin bowls (uni).\n",
       "3. **Furano**:\n",
       "   - Lavender ice cream.\n",
       "4. **Hakodate**:\n",
       "   - Morning markets with fresh seafood.\n",
       "5. **Otaru**:\n",
       "   - Fresh sushi and seafood.\n",
       "6. **Kombu (kelp)**:\n",
       "   - Available throughout Hokkaido, particularly known varieties are Makombu, Rishiri Kombu, Hidaka Kombu, and Rausu Kombu.\n",
       "7. **Crab**:\n",
       "   - Specialty crab dinners available in many restaurants.\n",
       "8. **Soft serve ice cream**:\n",
       "   - Available throughout Hokkaido, especially in dairy-rich areas.\n",
       "9. **Sapporo**:\n",
       "   - Dairy products and farm fresh ingredients.\n",
       "\n",
       "### Geopandas Dataset:\n",
       "To create a geopandas dataset, we can construct a DataFrame with columns for the name of the destination, type (sightseeing/food), and coordinates (latitude and longitude). Here's an example:\n",
       "\n",
       "```python\n",
       "import geopandas as gpd\n",
       "import pandas as pd\n",
       "from shapely.geometry import Point\n",
       "\n",
       "data = {\n",
       "    'Name': ['Sapporo', 'Asahikawa', 'Biei', 'Furano', 'Hakodate', 'Daisetsuzan National Park', 'Lake Toya', 'Noboribetsu', 'Otaru', 'Shakotan Peninsula'],\n",
       "    'Type': ['Sightseeing', 'Sightseeing', 'Sightseeing', 'Sightseeing', 'Sightseeing', 'Sightseeing', 'Sightseeing', 'Sightseeing', 'Sightseeing', 'Sightseeing'],\n",
       "    'Latitude': [43.06, 43.77, 43.59, 43.34, 41.77, 43.66, 42.56, 42.41, 43.19, 43.23],\n",
       "    'Longitude': [141.35, 142.37, 142.46, 142.38, 140.73, 142.87, 140.83, 141.13, 141.00, 140.52]\n",
       "}\n",
       "sightseeing_df = pd.DataFrame(data)\n",
       "sightseeing_df['Coordinates'] = sightseeing_df.apply(lambda row: Point(row['Longitude'], row['Latitude']), axis=1)\n",
       "sightseeing_gdf = gpd.GeoDataFrame(sightseeing_df, geometry='Coordinates')\n",
       "\n",
       "food_data = {\n",
       "    'Name': ['Sapporo', 'Shakotan Peninsula', 'Furano', 'Hakodate', 'Otaru', 'Kombu', 'Crab', 'Soft serve ice cream', 'Sapporo'],\n",
       "    'Type': ['Food', 'Food', 'Food', 'Food', 'Food', 'Food', 'Food', 'Food', 'Food'],\n",
       "    'Latitude': [43.06, 43.23, 43.34, 41.77, 43.19, 43.06, 43.06, 43.06, 43.06],\n",
       "    'Longitude': [141.35, 140.52, 142.38, 140.73, 141.00, 141.35, 141.35, 141.35, 141.35]\n",
       "}\n",
       "food_df = pd.DataFrame(food_data)\n",
       "food_df['Coordinates'] = food_df.apply(lambda row: Point(row['Longitude'], row['Latitude']), axis=1)\n",
       "food_gdf = gpd.GeoDataFrame(food_df, geometry='Coordinates')\n",
       "\n",
       "# Combine both GeoDataFrames\n",
       "hokkaido_gdf = pd.concat([sightseeing_gdf, food_gdf], ignore_index=True)\n",
       "```\n",
       "\n",
       "This dataset can be further enriched with more detailed information and coordinates for precise locations."
      ],
      "text/plain": [
       "<IPython.core.display.Markdown object>"
      ]
     },
     "metadata": {},
     "output_type": "display_data"
    }
   ],
   "source": [
    "\n",
    "from IPython.display import display, Markdown\n",
    "\n",
    "# assuming response is defined and structured as expected\n",
    "display(Markdown(response[\"messages\"][-1].content))"
   ]
  },
  {
   "cell_type": "code",
   "execution_count": 7,
   "metadata": {},
   "outputs": [],
   "source": [
    "import matplotlib.pyplot as plt\n",
    "import pandas as pd\n",
    "import geopandas as gpd"
   ]
  },
  {
   "cell_type": "code",
   "execution_count": 8,
   "metadata": {},
   "outputs": [],
   "source": [
    "response = agent_executor.invoke({\"messages\": [(\"user\",\"Can you create a geopandas dataset for the popular destinations in Hokkaido and create a map for it using folium?\")]})"
   ]
  },
  {
   "cell_type": "code",
   "execution_count": 9,
   "metadata": {},
   "outputs": [
    {
     "data": {
      "text/markdown": [
       "Here are some popular destinations in Hokkaido:\n",
       "\n",
       "1. **Shirogane Blue Pond (Shirogane Aoiike)**\n",
       "   - Location: Biei, Kamikawa District, Hokkaido\n",
       "\n",
       "2. **Otaru Aquarium**\n",
       "   - Location: Otaru, Hokkaido\n",
       "\n",
       "3. **Nikka Whisky Yoichi Distillery**\n",
       "   - Location: Yoichi, Hokkaido\n",
       "\n",
       "4. **Ainu Museum (Upopoy)**\n",
       "   - Location: Shiraoi, Shiraoi District, Hokkaido\n",
       "\n",
       "5. **Unkai Terrace**\n",
       "   - Location: Hoshino Resorts Tomamu, Shimukappu, Yufutsu District, Hokkaido\n",
       "\n",
       "Now, let's create a GeoPandas dataset and plot it using Folium. \n",
       "\n",
       "First, we need to import the required libraries and create the dataset. Then, we'll create a map with Folium.\n",
       "\n",
       "### Step 1: Install Required Libraries\n",
       "\n",
       "If you don't already have the necessary libraries, you can install them using pip:\n",
       "\n",
       "```sh\n",
       "pip install geopandas folium\n",
       "```\n",
       "\n",
       "### Step 2: Create the GeoPandas Dataset\n",
       "\n",
       "```python\n",
       "import geopandas as gpd\n",
       "import pandas as pd\n",
       "from shapely.geometry import Point\n",
       "\n",
       "# Define the destinations with their coordinates\n",
       "destinations = [\n",
       "    {\"name\": \"Shirogane Blue Pond\", \"latitude\": 43.551, \"longitude\": 142.686},\n",
       "    {\"name\": \"Otaru Aquarium\", \"latitude\": 43.202, \"longitude\": 140.998},\n",
       "    {\"name\": \"Nikka Whisky Yoichi Distillery\", \"latitude\": 43.197, \"longitude\": 140.774},\n",
       "    {\"name\": \"Ainu Museum (Upopoy)\", \"latitude\": 42.556, \"longitude\": 141.360},\n",
       "    {\"name\": \"Unkai Terrace\", \"latitude\": 43.069, \"longitude\": 142.634}\n",
       "]\n",
       "\n",
       "# Create a DataFrame\n",
       "df = pd.DataFrame(destinations)\n",
       "\n",
       "# Convert the DataFrame to a GeoDataFrame\n",
       "gdf = gpd.GeoDataFrame(df, geometry=gpd.points_from_xy(df.longitude, df.latitude))\n",
       "\n",
       "# Set the coordinate reference system (CRS) to WGS84\n",
       "gdf.set_crs(epsg=4326, inplace=True)\n",
       "\n",
       "print(gdf)\n",
       "```\n",
       "\n",
       "### Step 3: Create the Folium Map\n",
       "\n",
       "```python\n",
       "import folium\n",
       "\n",
       "# Initialize the map centered around Hokkaido\n",
       "hokkaido_map = folium.Map(location=[43.2203, 142.8635], zoom_start=7)\n",
       "\n",
       "# Add the destinations to the map\n",
       "for _, row in gdf.iterrows():\n",
       "    folium.Marker(\n",
       "        location=[row['latitude'], row['longitude']],\n",
       "        popup=row['name'],\n",
       "        icon=folium.Icon(icon='cloud')\n",
       "    ).add_to(hokkaido_map)\n",
       "\n",
       "# Save the map to an HTML file\n",
       "hokkaido_map.save(\"hokkaido_map.html\")\n",
       "\n",
       "# Display the map\n",
       "hokkaido_map\n",
       "```\n",
       "\n",
       "This code will create a map with markers for each of the popular destinations in Hokkaido. The map will be saved to an HTML file called `hokkaido_map.html` and displayed in your browser."
      ],
      "text/plain": [
       "<IPython.core.display.Markdown object>"
      ]
     },
     "metadata": {},
     "output_type": "display_data"
    }
   ],
   "source": [
    "display(Markdown(response[\"messages\"][-1].content))"
   ]
  },
  {
   "cell_type": "code",
   "execution_count": 10,
   "metadata": {},
   "outputs": [],
   "source": [
    "from langchain_core.messages import (\n",
    "    BaseMessage,\n",
    "    HumanMessage,\n",
    "    ToolMessage,\n",
    ")\n",
    "from langchain_core.prompts import ChatPromptTemplate, MessagesPlaceholder\n",
    "\n",
    "from langgraph.graph import END, StateGraph\n",
    "\n",
    "\n",
    "def create_agent(llm, tools, system_message: str):\n",
    "    \"\"\"Create an agent.\"\"\"\n",
    "    prompt = ChatPromptTemplate.from_messages(\n",
    "        [\n",
    "            (\n",
    "                \"system\",\n",
    "                \"You are a helpful AI assistant, collaborating with other assistants.\"\n",
    "                \" Use the provided tools to progress towards answering the question.\"\n",
    "                \" If you are unable to fully answer, that's OK, another assistant with different tools \"\n",
    "                \" will help where you left off. Execute what you can to make progress.\"\n",
    "                \" If you or any of the other assistants have the final answer or deliverable,\"\n",
    "                \" prefix your response with FINAL ANSWER so the team knows to stop.\"\n",
    "                \" You have access to the following tools: {tool_names}.\\n{system_message}\",\n",
    "            ),\n",
    "            MessagesPlaceholder(variable_name=\"messages\"),\n",
    "        ]\n",
    "    )\n",
    "    prompt = prompt.partial(system_message=system_message)\n",
    "    prompt = prompt.partial(tool_names=\", \".join([tool.name for tool in tools]))\n",
    "    return prompt | llm.bind_tools(tools)"
   ]
  },
  {
   "cell_type": "code",
   "execution_count": 11,
   "metadata": {},
   "outputs": [],
   "source": [
    "from typing import Annotated\n",
    "\n",
    "from langchain_community.tools.tavily_search import TavilySearchResults\n",
    "from langchain_core.tools import tool\n",
    "from langchain_experimental.utilities import PythonREPL\n",
    "\n",
    "tavily_tool = TavilySearchResults(max_results=5)\n",
    "\n",
    "# Warning: This executes code locally, which can be unsafe when not sandboxed\n",
    "\n",
    "repl = PythonREPL()\n",
    "\n",
    "\n",
    "@tool\n",
    "def python_repl(\n",
    "    code: Annotated[str, \"The python code to execute to generate your chart.\"],\n",
    "):\n",
    "    \"\"\"Use this to execute python code. If you want to see the output of a value,\n",
    "    you should print it out with `print(...)`. This is visible to the user.\"\"\"\n",
    "    try:\n",
    "        result = repl.run(code)\n",
    "    except BaseException as e:\n",
    "        return f\"Failed to execute. Error: {repr(e)}\"\n",
    "    result_str = f\"Successfully executed:\\n```python\\n{code}\\n```\\nStdout: {result}\"\n",
    "    return (\n",
    "        result_str + \"\\n\\nIf you have completed all tasks, respond with FINAL ANSWER.\"\n",
    "    )"
   ]
  },
  {
   "cell_type": "code",
   "execution_count": 16,
   "metadata": {},
   "outputs": [],
   "source": [
    "import operator\n",
    "from typing import Annotated, Sequence, TypedDict\n",
    "\n",
    "from langchain_openai import ChatOpenAI\n",
    "\n",
    "\n",
    "# This defines the object that is passed between each node\n",
    "# in the graph. We will create different nodes for each agent and tool\n",
    "class AgentState(TypedDict):\n",
    "    messages: Annotated[Sequence[BaseMessage], operator.add]\n",
    "    sender: str"
   ]
  },
  {
   "cell_type": "code",
   "execution_count": 12,
   "metadata": {},
   "outputs": [],
   "source": [
    "import functools\n",
    "\n",
    "from langchain_core.messages import AIMessage\n",
    "\n",
    "\n",
    "# Helper function to create a node for a given agent\n",
    "def agent_node(state, agent, name):\n",
    "    result = agent.invoke(state)\n",
    "    # We convert the agent output into a format that is suitable to append to the global state\n",
    "    if isinstance(result, ToolMessage):\n",
    "        pass\n",
    "    else:\n",
    "        result = AIMessage(**result.dict(exclude={\"type\", \"name\"}), name=name)\n",
    "    return {\n",
    "        \"messages\": [result],\n",
    "        # Since we have a strict workflow, we can\n",
    "        # track the sender so we know who to pass to next.\n",
    "        \"sender\": name,\n",
    "    }\n",
    "\n",
    "\n",
    "llm = ChatOpenAI(model=\"gpt-4o\")\n",
    "\n",
    "# Research agent and node\n",
    "research_agent = create_agent(\n",
    "    llm,\n",
    "    [tavily_tool],\n",
    "    system_message=\"You should provide accurate data for the chart_generator to use.\",\n",
    ")\n",
    "research_node = functools.partial(agent_node, agent=research_agent, name=\"Researcher\")\n",
    "\n",
    "# chart_generator\n",
    "chart_agent = create_agent(\n",
    "    llm,\n",
    "    [python_repl],\n",
    "    system_message=\"Any charts you display will be visible by the user.\",\n",
    ")\n",
    "chart_node = functools.partial(agent_node, agent=chart_agent, name=\"chart_generator\")"
   ]
  },
  {
   "cell_type": "code",
   "execution_count": 13,
   "metadata": {},
   "outputs": [],
   "source": [
    "from langgraph.prebuilt import ToolNode\n",
    "\n",
    "tools = [tavily_tool, python_repl]\n",
    "tool_node = ToolNode(tools)"
   ]
  },
  {
   "cell_type": "code",
   "execution_count": 14,
   "metadata": {},
   "outputs": [],
   "source": [
    "# Either agent can decide to end\n",
    "from typing import Literal\n",
    "\n",
    "\n",
    "def router(state) -> Literal[\"call_tool\", \"__end__\", \"continue\"]:\n",
    "    # This is the router\n",
    "    messages = state[\"messages\"]\n",
    "    last_message = messages[-1]\n",
    "    if last_message.tool_calls:\n",
    "        # The previous agent is invoking a tool\n",
    "        return \"call_tool\"\n",
    "    if \"FINAL ANSWER\" in last_message.content:\n",
    "        # Any agent decided the work is done\n",
    "        return \"__end__\"\n",
    "    return \"continue\""
   ]
  },
  {
   "cell_type": "code",
   "execution_count": 17,
   "metadata": {},
   "outputs": [],
   "source": [
    "workflow = StateGraph(AgentState)\n",
    "\n",
    "workflow.add_node(\"Researcher\", research_node)\n",
    "workflow.add_node(\"chart_generator\", chart_node)\n",
    "workflow.add_node(\"call_tool\", tool_node)\n",
    "\n",
    "workflow.add_conditional_edges(\n",
    "    \"Researcher\",\n",
    "    router,\n",
    "    {\"continue\": \"chart_generator\", \"call_tool\": \"call_tool\", \"__end__\": END},\n",
    ")\n",
    "workflow.add_conditional_edges(\n",
    "    \"chart_generator\",\n",
    "    router,\n",
    "    {\"continue\": \"Researcher\", \"call_tool\": \"call_tool\", \"__end__\": END},\n",
    ")\n",
    "\n",
    "workflow.add_conditional_edges(\n",
    "    \"call_tool\",\n",
    "    # Each agent node updates the 'sender' field\n",
    "    # the tool calling node does not, meaning\n",
    "    # this edge will route back to the original agent\n",
    "    # who invoked the tool\n",
    "    lambda x: x[\"sender\"],\n",
    "    {\n",
    "        \"Researcher\": \"Researcher\",\n",
    "        \"chart_generator\": \"chart_generator\",\n",
    "    },\n",
    ")\n",
    "workflow.set_entry_point(\"Researcher\")\n",
    "graph = workflow.compile()"
   ]
  },
  {
   "cell_type": "code",
   "execution_count": 18,
   "metadata": {},
   "outputs": [
    {
     "data": {
      "image/jpeg": "[encoded data removed]",
      "text/plain": [
       "<IPython.core.display.Image object>"
      ]
     },
     "metadata": {},
     "output_type": "display_data"
    }
   ],
   "source": [
    "from IPython.display import Image, display\n",
    "\n",
    "try:\n",
    "    display(Image(graph.get_graph(xray=True).draw_mermaid_png()))\n",
    "except Exception:\n",
    "    # This requires some extra dependencies and is optional\n",
    "    pass"
   ]
  },
  {
   "cell_type": "code",
   "execution_count": 19,
   "metadata": {},
   "outputs": [],
   "source": [
    "import re\n",
    "import folium\n",
    "import pandas as pd\n",
    "import geopandas as gpd"
   ]
  },
  {
   "cell_type": "code",
   "execution_count": 21,
   "metadata": {},
   "outputs": [
    {
     "name": "stdout",
     "output_type": "stream",
     "text": [
      "{'Researcher': {'messages': [AIMessage(content='', additional_kwargs={'tool_calls': [{'id': 'call_3KFSKAXggRBdfhFVplpuVGFA', 'function': {'arguments': '{\"query\": \"popular sightseeing destinations in Hokkaido\"}', 'name': 'tavily_search_results_json'}, 'type': 'function'}, {'id': 'call_tUTy4brh5oSMIq2AgKobyOSs', 'function': {'arguments': '{\"query\": \"popular food destinations in Hokkaido\"}', 'name': 'tavily_search_results_json'}, 'type': 'function'}]}, response_metadata={'token_usage': {'completion_tokens': 64, 'prompt_tokens': 231, 'total_tokens': 295}, 'model_name': 'gpt-4o', 'system_fingerprint': 'fp_f4e629d0a5', 'finish_reason': 'tool_calls', 'logprobs': None}, name='Researcher', id='run-abb00053-0ee9-4b72-b40a-982fd8b842bc-0', tool_calls=[{'name': 'tavily_search_results_json', 'args': {'query': 'popular sightseeing destinations in Hokkaido'}, 'id': 'call_3KFSKAXggRBdfhFVplpuVGFA'}, {'name': 'tavily_search_results_json', 'args': {'query': 'popular food destinations in Hokkaido'}, 'id': 'call_tUTy4brh5oSMIq2AgKobyOSs'}], usage_metadata={'input_tokens': 231, 'output_tokens': 64, 'total_tokens': 295})], 'sender': 'Researcher'}}\n",
      "----\n",
      "{'call_tool': {'messages': [ToolMessage(content='[{\"url\": \"https://thesimpletravel.com/places-to-visit-in-hokkaido/\", \"content\": \"Top 25 Best Countries to Visit: Your Ultimate Travel Destination Guide\\\\nThe Ultimate China Travel Guide: Unlocking China\\\\u2019s Splendors\\\\nThe 20 Best Things to Do in Medina: Make Your Pilgrimage Even More Satisfying\\\\nThe 24 Best Places to Visit in Hokkaido, Japan\\\\nHokkaido is a region in the northern part of Japan where nature flourishes and is one of the most-visited places by tourists and locals. Address: Shirogane, Biei, Kamikawa District, Hokkaido 071-0235\\\\nOpening hours: always open\\\\nFees: Free\\\\n5.\\\\u00a0Otaru Aquarium\\\\nOtaru is a beautiful small harbour city in Hokkaido that offers several attractions to its visitors, and Otaru Aquarium is one of the best and must-visit attractions in the city. Top 25 Best Countries to Visit: Your Ultimate Travel Destination Guide\\\\nThe Ultimate China Travel Guide: Unlocking China\\\\u2019s Splendors\\\\nThe 20 Best Things to Do in Medina: Make Your Pilgrimage Even More Satisfying\\\\nBackpacking In Cambodia: The Ultimate Guide to Thrilling Backpacking Adventures in Cambodia!\\\\n Top 25 Best Countries to Visit: Your Ultimate Travel Destination Guide\\\\nThe Ultimate China Travel Guide: Unlocking China\\\\u2019s Splendors\\\\nThe 20 Best Things to Do in Medina: Make Your Pilgrimage Even More Satisfying\\\\nBackpacking In Cambodia: The Ultimate Guide to Thrilling Backpacking Adventures in Cambodia!\\\\n Top 25 Best Countries to Visit: Your Ultimate Travel Destination Guide\\\\nThe Ultimate China Travel Guide: Unlocking China\\\\u2019s Splendors\\\\nThe 20 Best Things to Do in Medina: Make Your Pilgrimage Even More Satisfying\\\\nBackpacking In Cambodia: The Ultimate Guide to Thrilling Backpacking Adventures in Cambodia!\\\\n\"}, {\"url\": \"https://www.busytourist.com/things-to-do-in-hokkaido-japan/\", \"content\": \"3. Sapporo Snow Festival. stock_shot / Shutterstock. Speaking of snow, Hokkaido, Japan has the Sapporo Snow Festival that attract tourists every year. In fact, it\\'s one of the most popular festivals in Hokkaido. If you\\'re contemplating on a winter trip Hokkaido, then the Sapporo Snow Festival is a must do. \\\\u304b\\\\u304c\\\\u307f\\\\uff5e / Flickr.\"}, {\"url\": \"https://jw-webmagazine.com/things-to-do-in-hokkaido/\", \"content\": \"Hokkaido is one of the most popular tourist destinations in Japan. The northern beauty Hokkaido is best known for its tremendous land with the gifted great nature and landscape. In fact, 22% of Japanese land area belong to Hokkaido and many parts of it remains untouched and wild. ... Hakodate City (\\\\u51fd\\\\u9928\\\\u5e02) is the southernmost city of ...\"}, {\"url\": \"https://www.tripadvisor.in/Attractions-g298143-Activities-Hokkaido.html\", \"content\": \"6. Nikka Whisky Yoichi Distillery. 1,295. Distilleries. --is at Lat.43 10\\'N.Lon.14045\\'E, or about the same Latitude as the middle of New York State, Toronto Canada, Vladivostok Russia. --rests about 50km west of Sapporo City in southern Hokkaido, which\\\\u2026. See ways to experience (5) 2023.\"}, {\"url\": \"https://www.tripadvisor.com/Attractions-g298143-Activities-Hokkaido.html\", \"content\": \"See all. These rankings are informed by traveler reviews\\\\u2014we consider the quality, quantity, recency, consistency of reviews, and the number of page views over time. 2023. 1. Mount Hakodate. 3,687. Mountains. Scenic cable car ride to an observatory with panoramic city and port views, particularly striking at sunset.\"}]', name='tavily_search_results_json', tool_call_id='call_3KFSKAXggRBdfhFVplpuVGFA'), ToolMessage(content='[{\"url\": \"https://www.tastingtable.com/1208409/popular-dishes-that-are-special-to-hokkaido-japan/\", \"content\": \"In \\\\\"Milk,\\\\\" food historian Mark Kurlansky describes how Japan\\'s 19th-century government saw milk as the key to a strong and healthy population, leading to the establishment of Hokkaido\\'s first ...\"}, {\"url\": \"https://livejapan.com/en/in-hokkaido/in-pref-hokkaido/in-sapporo_chitose/article-a1000205/\", \"content\": \"Taste \\\\\"Hokkaido\\'s Three Great Ramen\\\\\" and \\\\\"Rishiri Ramen\\\\\". 5. Sapporo soup curry: Compare each store\\'s unique style of soup and ingredients! 6. Obihiro\\'s specialty \\\\\"Pork Donburi\\\\\": Visually impactful and appetizing! 7. Hokkaido\\'s soul food, \\\\\"Zangi,\\\\\" is evolving rapidly. 8. Enjoy the gentle taste of \\\\\"Ishikari Nabe\\\\\".\"}, {\"url\": \"https://www.justonecookbook.com/eating-in-hokkaido-must-try-foods-in-hokkaido/\", \"content\": \"You can find crab everywhere from izakayas to sushi restaurants, but to get the best experience, just visit any specialty restaurants that serve crab dinners and eat your heart out. 3. Sea Urchin. Another must-try is the uni, or sea urchin. Uni from Hokkaido is the freshest because they feed on the abundant kombu (kelp) in the cool water.\"}, {\"url\": \"https://www.tripsavvy.com/top-foods-to-try-in-hokkaido-japan-5072816\", \"content\": \"Ishikari Nabe. Made up of creamy soup flavored with white miso, this hotpot contains seasonal local vegetables and fresh fish (typically salmon, but options can include crab or mussels). Simple, delicious, and perfectly suited to the cold climate, this is one of the most satisfying of Hokkaido\\'s special foods.\"}, {\"url\": \"https://www.kyuhoshi.com/best-foods-in-hokkaido/\", \"content\": \"Though there are many ingredients such as locally produced vegetables especially potato, daikon, mushroom, and cabbage, tofu, miso soup, seafood, sugar, sake and etc. are used along with the main ingredient. These are all stewed with salmon fillets into a donabe pot /nabe pot.\"}]', name='tavily_search_results_json', tool_call_id='call_tUTy4brh5oSMIq2AgKobyOSs')]}}\n",
      "----\n",
      "{'Researcher': {'messages': [AIMessage(content='Based on the search results, here is a list of popular sightseeing and food destinations in Hokkaido:\\n\\n### Sightseeing Destinations:\\n1. **Sapporo Snow Festival** - An annual snow festival featuring large snow and ice sculptures.\\n2. **Mount Hakodate** - Offers scenic views of the city and port, especially at sunset.\\n3. **Otaru Aquarium** - A popular attraction in the harbor city of Otaru.\\n4. **Nikka Whisky Yoichi Distillery** - A famous distillery located near Sapporo.\\n5. **Biei (Shirogane Blue Pond)** - Known for its beautiful blue pond.\\n\\n### Food Destinations:\\n1. **Ramen Shops in Sapporo** - Specially known for \"Hokkaido\\'s Three Great Ramen\" and \"Rishiri Ramen.\"\\n2. **Soup Curry Restaurants in Sapporo** - Unique style of soup curry.\\n3. **Pork Donburi in Obihiro** - A local specialty.\\n4. **Crab Specialty Restaurants** - Known for serving fresh crab dishes.\\n5. **Ishikari Nabe Restaurants** - Hotpot with seasonal vegetables and fresh fish.\\n\\nI will now create a pandas dataframe with the Name, Latitude, Longitude, and Type columns for these destinations. Let\\'s start by finding the latitudes and longitudes for these locations.\\nHere are the approximate coordinates for the listed destinations:\\n\\n### Sightseeing Destinations:\\n1. **Sapporo Snow Festival**: 43.0618° N, 141.3545° E\\n2. **Mount Hakodate**: 41.7758° N, 140.7069° E\\n3. **Otaru Aquarium**: 43.2036° N, 140.9980° E\\n4. **Nikka Whisky Yoichi Distillery**: 43.1976° N, 140.7838° E\\n5. **Biei (Shirogane Blue Pond)**: 43.4590° N, 142.6152° E\\n\\n### Food Destinations:\\n1. **Ramen Shops in Sapporo**: 43.0618° N, 141.3545° E (same as Sapporo)\\n2. **Soup Curry Restaurants in Sapporo**: 43.0618° N, 141.3545° E (same as Sapporo)\\n3. **Pork Donburi in Obihiro**: 42.9236° N, 143.1969° E\\n4. **Crab Specialty Restaurants**: 43.0618° N, 141.3545° E (same as Sapporo)\\n5. **Ishikari Nabe Restaurants**: 43.0618° N, 141.3545° E (same as Sapporo)\\n\\nLet\\'s create the pandas dataframe using these details.', response_metadata={'token_usage': {'completion_tokens': 609, 'prompt_tokens': 1688, 'total_tokens': 2297}, 'model_name': 'gpt-4o', 'system_fingerprint': 'fp_319be4768e', 'finish_reason': 'stop', 'logprobs': None}, name='Researcher', id='run-f4182edb-cee8-463a-aeb9-8e6cf51e0715-0', usage_metadata={'input_tokens': 1688, 'output_tokens': 609, 'total_tokens': 2297})], 'sender': 'Researcher'}}\n",
      "----\n",
      "{'chart_generator': {'messages': [AIMessage(content='', additional_kwargs={'tool_calls': [{'id': 'call_svQx3I18qMg0C8MJi48uTgth', 'function': {'arguments': '{\"code\":\"import pandas as pd\\\\n\\\\ndestinations = [\\\\n    {\\'Name\\': \\'Sapporo Snow Festival\\', \\'Latitude\\': 43.0618, \\'Longitude\\': 141.3545, \\'Type\\': \\'Sightseeing\\'},\\\\n    {\\'Name\\': \\'Mount Hakodate\\', \\'Latitude\\': 41.7758, \\'Longitude\\': 140.7069, \\'Type\\': \\'Sightseeing\\'},\\\\n    {\\'Name\\': \\'Otaru Aquarium\\', \\'Latitude\\': 43.2036, \\'Longitude\\': 140.9980, \\'Type\\': \\'Sightseeing\\'},\\\\n    {\\'Name\\': \\'Nikka Whisky Yoichi Distillery\\', \\'Latitude\\': 43.1976, \\'Longitude\\': 140.7838, \\'Type\\': \\'Sightseeing\\'},\\\\n    {\\'Name\\': \\'Biei (Shirogane Blue Pond)\\', \\'Latitude\\': 43.4590, \\'Longitude\\': 142.6152, \\'Type\\': \\'Sightseeing\\'},\\\\n    {\\'Name\\': \\'Ramen Shops in Sapporo\\', \\'Latitude\\': 43.0618, \\'Longitude\\': 141.3545, \\'Type\\': \\'Food\\'},\\\\n    {\\'Name\\': \\'Soup Curry Restaurants in Sapporo\\', \\'Latitude\\': 43.0618, \\'Longitude\\': 141.3545, \\'Type\\': \\'Food\\'},\\\\n    {\\'Name\\': \\'Pork Donburi in Obihiro\\', \\'Latitude\\': 42.9236, \\'Longitude\\': 143.1969, \\'Type\\': \\'Food\\'},\\\\n    {\\'Name\\': \\'Crab Specialty Restaurants\\', \\'Latitude\\': 43.0618, \\'Longitude\\': 141.3545, \\'Type\\': \\'Food\\'},\\\\n    {\\'Name\\': \\'Ishikari Nabe Restaurants\\', \\'Latitude\\': 43.0618, \\'Longitude\\': 141.3545, \\'Type\\': \\'Food\\'}\\\\n]\\\\n\\\\ndf = pd.DataFrame(destinations)\\\\nprint(df)\\\\n\"}', 'name': 'python_repl'}, 'type': 'function'}]}, response_metadata={'token_usage': {'completion_tokens': 431, 'prompt_tokens': 2293, 'total_tokens': 2724}, 'model_name': 'gpt-4o', 'system_fingerprint': 'fp_319be4768e', 'finish_reason': 'tool_calls', 'logprobs': None}, name='chart_generator', id='run-8c90166c-da24-4b61-9434-978bea22d181-0', tool_calls=[{'name': 'python_repl', 'args': {'code': \"import pandas as pd\\n\\ndestinations = [\\n    {'Name': 'Sapporo Snow Festival', 'Latitude': 43.0618, 'Longitude': 141.3545, 'Type': 'Sightseeing'},\\n    {'Name': 'Mount Hakodate', 'Latitude': 41.7758, 'Longitude': 140.7069, 'Type': 'Sightseeing'},\\n    {'Name': 'Otaru Aquarium', 'Latitude': 43.2036, 'Longitude': 140.9980, 'Type': 'Sightseeing'},\\n    {'Name': 'Nikka Whisky Yoichi Distillery', 'Latitude': 43.1976, 'Longitude': 140.7838, 'Type': 'Sightseeing'},\\n    {'Name': 'Biei (Shirogane Blue Pond)', 'Latitude': 43.4590, 'Longitude': 142.6152, 'Type': 'Sightseeing'},\\n    {'Name': 'Ramen Shops in Sapporo', 'Latitude': 43.0618, 'Longitude': 141.3545, 'Type': 'Food'},\\n    {'Name': 'Soup Curry Restaurants in Sapporo', 'Latitude': 43.0618, 'Longitude': 141.3545, 'Type': 'Food'},\\n    {'Name': 'Pork Donburi in Obihiro', 'Latitude': 42.9236, 'Longitude': 143.1969, 'Type': 'Food'},\\n    {'Name': 'Crab Specialty Restaurants', 'Latitude': 43.0618, 'Longitude': 141.3545, 'Type': 'Food'},\\n    {'Name': 'Ishikari Nabe Restaurants', 'Latitude': 43.0618, 'Longitude': 141.3545, 'Type': 'Food'}\\n]\\n\\ndf = pd.DataFrame(destinations)\\nprint(df)\\n\"}, 'id': 'call_svQx3I18qMg0C8MJi48uTgth'}], usage_metadata={'input_tokens': 2293, 'output_tokens': 431, 'total_tokens': 2724})], 'sender': 'chart_generator'}}\n",
      "----\n",
      "{'call_tool': {'messages': [ToolMessage(content=\"Successfully executed:\\n```python\\nimport pandas as pd\\n\\ndestinations = [\\n    {'Name': 'Sapporo Snow Festival', 'Latitude': 43.0618, 'Longitude': 141.3545, 'Type': 'Sightseeing'},\\n    {'Name': 'Mount Hakodate', 'Latitude': 41.7758, 'Longitude': 140.7069, 'Type': 'Sightseeing'},\\n    {'Name': 'Otaru Aquarium', 'Latitude': 43.2036, 'Longitude': 140.9980, 'Type': 'Sightseeing'},\\n    {'Name': 'Nikka Whisky Yoichi Distillery', 'Latitude': 43.1976, 'Longitude': 140.7838, 'Type': 'Sightseeing'},\\n    {'Name': 'Biei (Shirogane Blue Pond)', 'Latitude': 43.4590, 'Longitude': 142.6152, 'Type': 'Sightseeing'},\\n    {'Name': 'Ramen Shops in Sapporo', 'Latitude': 43.0618, 'Longitude': 141.3545, 'Type': 'Food'},\\n    {'Name': 'Soup Curry Restaurants in Sapporo', 'Latitude': 43.0618, 'Longitude': 141.3545, 'Type': 'Food'},\\n    {'Name': 'Pork Donburi in Obihiro', 'Latitude': 42.9236, 'Longitude': 143.1969, 'Type': 'Food'},\\n    {'Name': 'Crab Specialty Restaurants', 'Latitude': 43.0618, 'Longitude': 141.3545, 'Type': 'Food'},\\n    {'Name': 'Ishikari Nabe Restaurants', 'Latitude': 43.0618, 'Longitude': 141.3545, 'Type': 'Food'}\\n]\\n\\ndf = pd.DataFrame(destinations)\\nprint(df)\\n\\n```\\nStdout:                                 Name  Latitude  Longitude         Type\\n0              Sapporo Snow Festival   43.0618   141.3545  Sightseeing\\n1                     Mount Hakodate   41.7758   140.7069  Sightseeing\\n2                     Otaru Aquarium   43.2036   140.9980  Sightseeing\\n3     Nikka Whisky Yoichi Distillery   43.1976   140.7838  Sightseeing\\n4         Biei (Shirogane Blue Pond)   43.4590   142.6152  Sightseeing\\n5             Ramen Shops in Sapporo   43.0618   141.3545         Food\\n6  Soup Curry Restaurants in Sapporo   43.0618   141.3545         Food\\n7            Pork Donburi in Obihiro   42.9236   143.1969         Food\\n8         Crab Specialty Restaurants   43.0618   141.3545         Food\\n9          Ishikari Nabe Restaurants   43.0618   141.3545         Food\\n\\n\\nIf you have completed all tasks, respond with FINAL ANSWER.\", name='python_repl', tool_call_id='call_svQx3I18qMg0C8MJi48uTgth')]}}\n",
      "----\n",
      "{'chart_generator': {'messages': [AIMessage(content='', additional_kwargs={'tool_calls': [{'id': 'call_CSj97lsiLoYn87Y5BE85GE31', 'function': {'arguments': '{\"code\":\"import folium\\\\nimport pandas as pd\\\\n\\\\n# DataFrame creation\\\\nlocations = [\\\\n    {\\'Name\\': \\'Sapporo Snow Festival\\', \\'Latitude\\': 43.0618, \\'Longitude\\': 141.3545, \\'Type\\': \\'Sightseeing\\'},\\\\n    {\\'Name\\': \\'Mount Hakodate\\', \\'Latitude\\': 41.7758, \\'Longitude\\': 140.7069, \\'Type\\': \\'Sightseeing\\'},\\\\n    {\\'Name\\': \\'Otaru Aquarium\\', \\'Latitude\\': 43.2036, \\'Longitude\\': 140.9980, \\'Type\\': \\'Sightseeing\\'},\\\\n    {\\'Name\\': \\'Nikka Whisky Yoichi Distillery\\', \\'Latitude\\': 43.1976, \\'Longitude\\': 140.7838, \\'Type\\': \\'Sightseeing\\'},\\\\n    {\\'Name\\': \\'Biei (Shirogane Blue Pond)\\', \\'Latitude\\': 43.4590, \\'Longitude\\': 142.6152, \\'Type\\': \\'Sightseeing\\'},\\\\n    {\\'Name\\': \\'Ramen Shops in Sapporo\\', \\'Latitude\\': 43.0618, \\'Longitude\\': 141.3545, \\'Type\\': \\'Food\\'},\\\\n    {\\'Name\\': \\'Soup Curry Restaurants in Sapporo\\', \\'Latitude\\': 43.0618, \\'Longitude\\': 141.3545, \\'Type\\': \\'Food\\'},\\\\n    {\\'Name\\': \\'Pork Donburi in Obihiro\\', \\'Latitude\\': 42.9236, \\'Longitude\\': 143.1969, \\'Type\\': \\'Food\\'},\\\\n    {\\'Name\\': \\'Crab Specialty Restaurants\\', \\'Latitude\\': 43.0618, \\'Longitude\\': 141.3545, \\'Type\\': \\'Food\\'},\\\\n    {\\'Name\\': \\'Ishikari Nabe Restaurants\\', \\'Latitude\\': 43.0618, \\'Longitude\\': 141.3545, \\'Type\\': \\'Food\\'}\\\\n]\\\\n\\\\ndf = pd.DataFrame(locations)\\\\n\\\\n# Create a map centered around Hokkaido\\\\nmap_hokkaido = folium.Map(location=[43.2203, 142.8635], zoom_start=6)\\\\n\\\\n# Add the locations to the map\\\\nfor _, row in df.iterrows():\\\\n    folium.Marker(\\\\n        location=[row[\\'Latitude\\'], row[\\'Longitude\\']],\\\\n        popup=row[\\'Name\\'],\\\\n        icon=folium.Icon(color=\\'blue\\' if row[\\'Type\\'] == \\'Sightseeing\\' else \\'red\\')\\\\n    ).add_to(map_hokkaido)\\\\n\\\\n# Save the map to an HTML file\\\\nmap_hokkaido.save(\\'hokkaido_map.html\\')\\\\nmap_hokkaido._repr_html_()\"}', 'name': 'python_repl'}, 'type': 'function'}]}, response_metadata={'token_usage': {'completion_tokens': 587, 'prompt_tokens': 3392, 'total_tokens': 3979}, 'model_name': 'gpt-4o', 'system_fingerprint': 'fp_319be4768e', 'finish_reason': 'tool_calls', 'logprobs': None}, name='chart_generator', id='run-3f34c606-03a6-4f72-8da6-69b37f4bddce-0', tool_calls=[{'name': 'python_repl', 'args': {'code': \"import folium\\nimport pandas as pd\\n\\n# DataFrame creation\\nlocations = [\\n    {'Name': 'Sapporo Snow Festival', 'Latitude': 43.0618, 'Longitude': 141.3545, 'Type': 'Sightseeing'},\\n    {'Name': 'Mount Hakodate', 'Latitude': 41.7758, 'Longitude': 140.7069, 'Type': 'Sightseeing'},\\n    {'Name': 'Otaru Aquarium', 'Latitude': 43.2036, 'Longitude': 140.9980, 'Type': 'Sightseeing'},\\n    {'Name': 'Nikka Whisky Yoichi Distillery', 'Latitude': 43.1976, 'Longitude': 140.7838, 'Type': 'Sightseeing'},\\n    {'Name': 'Biei (Shirogane Blue Pond)', 'Latitude': 43.4590, 'Longitude': 142.6152, 'Type': 'Sightseeing'},\\n    {'Name': 'Ramen Shops in Sapporo', 'Latitude': 43.0618, 'Longitude': 141.3545, 'Type': 'Food'},\\n    {'Name': 'Soup Curry Restaurants in Sapporo', 'Latitude': 43.0618, 'Longitude': 141.3545, 'Type': 'Food'},\\n    {'Name': 'Pork Donburi in Obihiro', 'Latitude': 42.9236, 'Longitude': 143.1969, 'Type': 'Food'},\\n    {'Name': 'Crab Specialty Restaurants', 'Latitude': 43.0618, 'Longitude': 141.3545, 'Type': 'Food'},\\n    {'Name': 'Ishikari Nabe Restaurants', 'Latitude': 43.0618, 'Longitude': 141.3545, 'Type': 'Food'}\\n]\\n\\ndf = pd.DataFrame(locations)\\n\\n# Create a map centered around Hokkaido\\nmap_hokkaido = folium.Map(location=[43.2203, 142.8635], zoom_start=6)\\n\\n# Add the locations to the map\\nfor _, row in df.iterrows():\\n    folium.Marker(\\n        location=[row['Latitude'], row['Longitude']],\\n        popup=row['Name'],\\n        icon=folium.Icon(color='blue' if row['Type'] == 'Sightseeing' else 'red')\\n    ).add_to(map_hokkaido)\\n\\n# Save the map to an HTML file\\nmap_hokkaido.save('hokkaido_map.html')\\nmap_hokkaido._repr_html_()\"}, 'id': 'call_CSj97lsiLoYn87Y5BE85GE31'}], usage_metadata={'input_tokens': 3392, 'output_tokens': 587, 'total_tokens': 3979})], 'sender': 'chart_generator'}}\n",
      "----\n",
      "{'call_tool': {'messages': [ToolMessage(content=\"Successfully executed:\\n```python\\nimport folium\\nimport pandas as pd\\n\\n# DataFrame creation\\nlocations = [\\n    {'Name': 'Sapporo Snow Festival', 'Latitude': 43.0618, 'Longitude': 141.3545, 'Type': 'Sightseeing'},\\n    {'Name': 'Mount Hakodate', 'Latitude': 41.7758, 'Longitude': 140.7069, 'Type': 'Sightseeing'},\\n    {'Name': 'Otaru Aquarium', 'Latitude': 43.2036, 'Longitude': 140.9980, 'Type': 'Sightseeing'},\\n    {'Name': 'Nikka Whisky Yoichi Distillery', 'Latitude': 43.1976, 'Longitude': 140.7838, 'Type': 'Sightseeing'},\\n    {'Name': 'Biei (Shirogane Blue Pond)', 'Latitude': 43.4590, 'Longitude': 142.6152, 'Type': 'Sightseeing'},\\n    {'Name': 'Ramen Shops in Sapporo', 'Latitude': 43.0618, 'Longitude': 141.3545, 'Type': 'Food'},\\n    {'Name': 'Soup Curry Restaurants in Sapporo', 'Latitude': 43.0618, 'Longitude': 141.3545, 'Type': 'Food'},\\n    {'Name': 'Pork Donburi in Obihiro', 'Latitude': 42.9236, 'Longitude': 143.1969, 'Type': 'Food'},\\n    {'Name': 'Crab Specialty Restaurants', 'Latitude': 43.0618, 'Longitude': 141.3545, 'Type': 'Food'},\\n    {'Name': 'Ishikari Nabe Restaurants', 'Latitude': 43.0618, 'Longitude': 141.3545, 'Type': 'Food'}\\n]\\n\\ndf = pd.DataFrame(locations)\\n\\n# Create a map centered around Hokkaido\\nmap_hokkaido = folium.Map(location=[43.2203, 142.8635], zoom_start=6)\\n\\n# Add the locations to the map\\nfor _, row in df.iterrows():\\n    folium.Marker(\\n        location=[row['Latitude'], row['Longitude']],\\n        popup=row['Name'],\\n        icon=folium.Icon(color='blue' if row['Type'] == 'Sightseeing' else 'red')\\n    ).add_to(map_hokkaido)\\n\\n# Save the map to an HTML file\\nmap_hokkaido.save('hokkaido_map.html')\\nmap_hokkaido._repr_html_()\\n```\\nStdout: \\n\\nIf you have completed all tasks, respond with FINAL ANSWER.\", name='python_repl', tool_call_id='call_CSj97lsiLoYn87Y5BE85GE31')]}}\n",
      "----\n",
      "{'chart_generator': {'messages': [AIMessage(content='The map with popular destinations in Hokkaido for sightseeing and food has been successfully created. Here is the pandas dataframe for these destinations:\\n\\n```plaintext\\n                                Name  Latitude  Longitude         Type\\n0              Sapporo Snow Festival   43.0618   141.3545  Sightseeing\\n1                     Mount Hakodate   41.7758   140.7069  Sightseeing\\n2                     Otaru Aquarium   43.2036   140.9980  Sightseeing\\n3     Nikka Whisky Yoichi Distillery   43.1976   140.7838  Sightseeing\\n4         Biei (Shirogane Blue Pond)   43.4590   142.6152  Sightseeing\\n5             Ramen Shops in Sapporo   43.0618   141.3545         Food\\n6  Soup Curry Restaurants in Sapporo   43.0618   141.3545         Food\\n7            Pork Donburi in Obihiro   42.9236   143.1969         Food\\n8         Crab Specialty Restaurants   43.0618   141.3545         Food\\n9          Ishikari Nabe Restaurants   43.0618   141.3545         Food\\n```\\n\\n### Map:\\n\\nThe interactive map can be found in the file `hokkaido_map.html`. You can open this file in a web browser to view the map with the locations marked.\\n\\nFINAL ANSWER', response_metadata={'token_usage': {'completion_tokens': 317, 'prompt_tokens': 4546, 'total_tokens': 4863}, 'model_name': 'gpt-4o', 'system_fingerprint': 'fp_319be4768e', 'finish_reason': 'stop', 'logprobs': None}, name='chart_generator', id='run-8269c61a-66a0-4614-97a8-918dada51762-0', usage_metadata={'input_tokens': 4546, 'output_tokens': 317, 'total_tokens': 4863})], 'sender': 'chart_generator'}}\n",
      "----\n"
     ]
    }
   ],
   "source": [
    "events = graph.stream(\n",
    "    {\n",
    "        \"messages\": [\n",
    "            HumanMessage(\n",
    "                content=\"Create a list of popular destinations in Hokkaido for sightseeing and food.\"\n",
    "                \"then generate a pandas dataframe with Name, Latitude, Longitude, and Type columns.\"\n",
    "                \"Plot the graph using Folium.Map and display it.\"\n",
    "            )\n",
    "        ],\n",
    "    },\n",
    "    # Maximum number of steps to take in the graph\n",
    "    {\"recursion_limit\": 150},\n",
    ")\n",
    "for s in events:\n",
    "    print(s)\n",
    "    print(\"----\")"
   ]
  }
 ],
 "metadata": {
  "kernelspec": {
   "display_name": "transcendent-qDtqboDW-py3.10",
   "language": "python",
   "name": "python3"
  },
  "language_info": {
   "codemirror_mode": {
    "name": "ipython",
    "version": 3
   },
   "file_extension": ".py",
   "mimetype": "text/x-python",
   "name": "python",
   "nbconvert_exporter": "python",
   "pygments_lexer": "ipython3",
   "version": "3.10.13"
  }
 },
 "nbformat": 4,
 "nbformat_minor": 2
}
