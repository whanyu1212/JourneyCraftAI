{
 "cells": [
  {
   "cell_type": "code",
   "execution_count": 9,
   "metadata": {},
   "outputs": [
    {
     "data": {
      "text/plain": [
       "True"
      ]
     },
     "execution_count": 9,
     "metadata": {},
     "output_type": "execute_result"
    }
   ],
   "source": [
    "import os\n",
    "import requests\n",
    "from dotenv import load_dotenv\n",
    "from langchain_community.vectorstores import FAISS # vector store\n",
    "from langchain_openai import ChatOpenAI,OpenAIEmbeddings # tend to use this whenever gemini runs into quota limit\n",
    "from langchain_google_vertexai import ChatVertexAI # runs into quota limit sometimes\n",
    "from langchain.pydantic_v1 import BaseModel, Field\n",
    "from langchain.tools import BaseTool, StructuredTool, tool\n",
    "from langchain_text_splitters import RecursiveCharacterTextSplitter\n",
    "from typing import Optional, Type\n",
    "from langchain.callbacks.manager import (\n",
    "    AsyncCallbackManagerForToolRun,\n",
    "    CallbackManagerForToolRun,\n",
    ")\n",
    "from langchain.tools.retriever import create_retriever_tool\n",
    "from langchain_community.document_loaders import WebBaseLoader # web document loader\n",
    "from langchain.agents import AgentExecutor, create_tool_calling_agent\n",
    "from langchain_core.prompts import ChatPromptTemplate\n",
    "from langchain_core.messages import SystemMessage\n",
    "from langgraph.checkpoint import MemorySaver  # an in-memory checkpointer\n",
    "from langgraph.prebuilt import create_react_agent\n",
    "load_dotenv()"
   ]
  },
  {
   "cell_type": "code",
   "execution_count": 4,
   "metadata": {},
   "outputs": [],
   "source": [
    "# For tracing and debugging\n",
    "os.environ[\"LANGCHAIN_TRACING_V2\"] = \"true\"\n",
    "\n",
    "# credential.json is not required if you are working within your own GCP project's vertex AI workbench\n",
    "os.environ[\"GOOGLE_APPLICATION_CREDENTIALS\"] = \"/workspaces/Transcendent/fleet-anagram-244304-7dafcc771b2f.json\"\n",
    "\n",
    "# if you are using text embedding model from google\n",
    "os.environ[\"GOOGLE_API_KEY\"] = os.getenv(\"GOOGLE_API_KEY\")\n",
    "\n",
    "GITHUB_ACCESS_TOKEN = os.getenv(\"GITHUB_ACCESS_TOKEN\")\n",
    "LANGCHAIN_API_KEY = os.getenv(\"LANGCHAIN_API_KEY\")\n",
    "GEMINI_API_KEY = os.getenv(\"GEMINI_API_KEY\")\n",
    "TAVILY_API_KEY = os.getenv(\"TAVILY_API_KEY\")\n",
    "OPENAI_API_KEY = os.getenv(\"OPENAI_API_KEY\")"
   ]
  },
  {
   "cell_type": "code",
   "execution_count": 5,
   "metadata": {},
   "outputs": [],
   "source": [
    "# Let's define a custom tool by subclassing the BaseTool class (from langchain)\n",
    "\n",
    "class GithubUserCredentials(BaseModel):\n",
    "    username: str = Field(description=\"Github username\")\n",
    "    github_access_token: str = Field(description=\"Github access token\")\n",
    "    \n",
    "class GithubActivityTool(BaseTool):\n",
    "    name = \"Github_Activity_Tool\" # it cannot handle spaces\n",
    "    description = \"useful for when you need to track user's github activity / events\"\n",
    "    args_schema: Type[BaseModel] = GithubUserCredentials\n",
    "\n",
    "    def _run(self, username, github_access_token):\n",
    "        url = f\"https://api.github.com/users/{username}/events\"\n",
    "        headers = {\"Authorization\": f\"token {github_access_token}\"}\n",
    "\n",
    "        response = requests.get(url, headers=headers)\n",
    "        response.raise_for_status()  # Raise an exception for HTTP errors\n",
    "\n",
    "        events_data = response.json()\n",
    "        return events_data"
   ]
  },
  {
   "cell_type": "code",
   "execution_count": 6,
   "metadata": {},
   "outputs": [
    {
     "name": "stdout",
     "output_type": "stream",
     "text": [
      "Github_Activity_Tool\n",
      "useful for when you need to track user's github activity / events\n",
      "{'username': {'title': 'Username', 'description': 'Github username', 'type': 'string'}, 'github_access_token': {'title': 'Github Access Token', 'description': 'Github access token', 'type': 'string'}}\n"
     ]
    }
   ],
   "source": [
    "github_event_search = GithubActivityTool()\n",
    "print(github_event_search.name)\n",
    "print(github_event_search.description)\n",
    "print(github_event_search.args)"
   ]
  },
  {
   "cell_type": "code",
   "execution_count": 7,
   "metadata": {},
   "outputs": [],
   "source": [
    "## create an RAG tool to scrape and summarize the trending repositories and developers on github\n",
    "url_list = [\n",
    "    \"https://github.com/trending\",\n",
    "    \"https://github.com/trending/developers\"\n",
    "]\n",
    "\n",
    "docs = []\n",
    "for path in url_list:\n",
    "    loader = WebBaseLoader(web_paths=(path,))\n",
    "    docs += loader.load()"
   ]
  },
  {
   "cell_type": "code",
   "execution_count": 8,
   "metadata": {},
   "outputs": [],
   "source": [
    "text_splitter = RecursiveCharacterTextSplitter(chunk_size=1000, chunk_overlap=200)\n",
    "splits = text_splitter.split_documents(docs)\n",
    "vectorstore = FAISS.from_documents(documents=splits, embedding=OpenAIEmbeddings())\n",
    "retriever = vectorstore.as_retriever()"
   ]
  },
  {
   "cell_type": "code",
   "execution_count": 10,
   "metadata": {},
   "outputs": [],
   "source": [
    "tool = create_retriever_tool(\n",
    "    retriever,\n",
    "    \"github_trending_repositories_and_developers_retriever\",\n",
    "    \"Searches and returns trending repositories and developers on github that are similar to the given query\",\n",
    ")"
   ]
  },
  {
   "cell_type": "code",
   "execution_count": 11,
   "metadata": {},
   "outputs": [],
   "source": [
    "llm = ChatOpenAI(model=\"gpt-4o\")\n",
    "tools = [GithubActivityTool(), tool]"
   ]
  },
  {
   "cell_type": "code",
   "execution_count": 12,
   "metadata": {},
   "outputs": [],
   "source": [
    "system_message = \"You are a helpful assistant.\"\n",
    "\n",
    "memory = MemorySaver()\n",
    "app = create_react_agent(\n",
    "    llm, tools, messages_modifier=system_message, checkpointer=memory\n",
    ")"
   ]
  },
  {
   "cell_type": "code",
   "execution_count": 13,
   "metadata": {},
   "outputs": [
    {
     "name": "stdout",
     "output_type": "stream",
     "text": [
      "### Summarized Text\n",
      "\n",
      "**Recent GitHub Activities of whanyu1212:**\n",
      "\n",
      "1. **PushEvent**: \n",
      "   - **Repository**: whanyu1212/Transcendent\n",
      "   - **Branches**: hy-dev, Develop\n",
      "   - **Commits**:\n",
      "     - Added minor edits to the repo summary and a bullet point to the to-do list.\n",
      "     - Added an example on retrieving GitHub events.\n",
      "     - Added JSON into `.gitignore`.\n",
      "     - Example on GitHub events summary.\n",
      "     - Created an agent for GitHub event tracking.\n",
      "     - Demo UI without refactoring.\n",
      "     - Added an update log in README.\n",
      "     - Merged a pull request testing a coding agent with custom tools.\n",
      "\n",
      "2. **WatchEvent**:\n",
      "   - **Repositories**: Eng-Elias/CrewAI-Visualizer, OthersideAI/self-operating-computer, chiphuyen/machine-learning-systems-design, chiphuyen/python-is-cool, chiphuyen/ml-interviews-book, ibis-project/ibis.\n",
      "\n",
      "3. **PullRequestEvent**:\n",
      "   - **Repository**: whanyu1212/Transcendent\n",
      "   - **Pull Requests**:\n",
      "     - Opened and closed a pull request titled \"tested coding agent with custom tools\".\n",
      "\n",
      "4. **MemberEvent**:\n",
      "   - **Repository**: whanyu1212/Transcendent\n",
      "   - **Action**: Added a member Yuxuan1998.\n",
      "\n",
      "5. **CreateEvent**:\n",
      "   - **Repository**: whanyu1212/Transcendent\n",
      "   - **Branches**: hy-dev, Develop\n",
      "\n",
      "### Frequency Table of Different Types of Events\n",
      "\n",
      "| Event Type         | Frequency |\n",
      "|--------------------|-----------|\n",
      "| PushEvent          | 17        |\n",
      "| WatchEvent         | 7         |\n",
      "| PullRequestEvent   | 4         |\n",
      "| MemberEvent        | 1         |\n",
      "| CreateEvent        | 4         |\n",
      "\n",
      "**Total Events**: 33\n"
     ]
    }
   ],
   "source": [
    "config = {\"configurable\": {\"thread_id\": \"test-thread\"}}\n",
    "print(\n",
    "    app.invoke(\n",
    "        {\n",
    "            \"messages\": [\n",
    "                (\"user\", f\"whanyu1212, {GITHUB_ACCESS_TOKEN}. Return the summarized text as well as the frequency table of different types of events.\"),\n",
    "            ]\n",
    "        },\n",
    "        config,\n",
    "    )[\"messages\"][-1].content)"
   ]
  },
  {
   "cell_type": "code",
   "execution_count": 15,
   "metadata": {},
   "outputs": [
    {
     "name": "stdout",
     "output_type": "stream",
     "text": [
      "Here are some of the trending repositories related to machine learning, AI, and data science:\n",
      "\n",
      "1. **[apple/axlearn](https://github.com/apple/axlearn)**\n",
      "   - **Description**: An Extensible Deep Learning Library.\n",
      "   - **Language**: Python\n",
      "   - **Stars**: 1,292\n",
      "   - **Forks**: 163\n",
      "   - **Stars Today**: 108\n",
      "\n",
      "2. **[karpathy/nanoGPT](https://github.com/karpathy/nanoGPT)**\n",
      "   - **Description**: The simplest, fastest repository for training/finetuning medium-sized GPTs.\n",
      "   - **Language**: Python\n",
      "   - **Stars**: 33,696\n",
      "   - **Forks**: 5,129\n",
      "   - **Stars Today**: 327\n",
      "\n",
      "3. **[xenova/transformers.js](https://github.com/xenova/transformers.js)**\n",
      "   - **Description**: State-of-the-art Machine Learning for the web. Run 🤗 Transformers directly in your browser, with no need for a server!\n",
      "   - **Language**: JavaScript\n",
      "   - **Stars**: 9,117\n",
      "   - **Forks**: 525\n",
      "   - **Stars Today**: 201\n",
      "\n",
      "These repositories are currently trending and offer various tools and libraries for deep learning, GPT training, and running machine learning models directly in the browser.\n"
     ]
    }
   ],
   "source": [
    "print(\n",
    "    app.invoke(\n",
    "        {\n",
    "            \"messages\": [\n",
    "                (\"user\", \"What are the trending repositories that are related to machine learning, AI, and data science?\"),\n",
    "            ]\n",
    "        },\n",
    "        config,\n",
    "    )[\"messages\"][-1].content)"
   ]
  }
 ],
 "metadata": {
  "kernelspec": {
   "display_name": "transcendent-qDtqboDW-py3.10",
   "language": "python",
   "name": "python3"
  },
  "language_info": {
   "codemirror_mode": {
    "name": "ipython",
    "version": 3
   },
   "file_extension": ".py",
   "mimetype": "text/x-python",
   "name": "python",
   "nbconvert_exporter": "python",
   "pygments_lexer": "ipython3",
   "version": "3.10.13"
  }
 },
 "nbformat": 4,
 "nbformat_minor": 2
}
