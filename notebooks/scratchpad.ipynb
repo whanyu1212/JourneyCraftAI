{
 "cells": [
  {
   "cell_type": "code",
   "execution_count": 10,
   "metadata": {},
   "outputs": [
    {
     "data": {
      "text/plain": [
       "True"
      ]
     },
     "execution_count": 10,
     "metadata": {},
     "output_type": "execute_result"
    }
   ],
   "source": [
    "import os\n",
    "import requests\n",
    "from dotenv import load_dotenv\n",
    "from langchain_openai import ChatOpenAI # tend to use this whenever gemini runs into quota limit\n",
    "from langchain_google_vertexai import ChatVertexAI # runs into quota limit sometimes\n",
    "from langchain.pydantic_v1 import BaseModel, Field\n",
    "from langchain.tools import BaseTool, StructuredTool, tool\n",
    "from typing import Optional, Type\n",
    "from langchain.callbacks.manager import (\n",
    "    AsyncCallbackManagerForToolRun,\n",
    "    CallbackManagerForToolRun,\n",
    ")\n",
    "from langchain.agents import AgentExecutor, create_tool_calling_agent\n",
    "from langchain_core.prompts import ChatPromptTemplate\n",
    "from langchain_core.messages import SystemMessage\n",
    "from langgraph.checkpoint import MemorySaver  # an in-memory checkpointer\n",
    "from langgraph.prebuilt import create_react_agent\n",
    "load_dotenv()"
   ]
  },
  {
   "cell_type": "code",
   "execution_count": 2,
   "metadata": {},
   "outputs": [],
   "source": [
    "# For tracing and debugging\n",
    "os.environ[\"LANGCHAIN_TRACING_V2\"] = \"true\"\n",
    "\n",
    "# credential.json is not required if you are working within your own GCP project's vertex AI workbench\n",
    "os.environ[\"GOOGLE_APPLICATION_CREDENTIALS\"] = \"/workspaces/Transcendent/fleet-anagram-244304-7dafcc771b2f.json\"\n",
    "\n",
    "# if you are using text embedding model from google\n",
    "os.environ[\"GOOGLE_API_KEY\"] = os.getenv(\"GOOGLE_API_KEY\")\n",
    "\n",
    "GITHUB_ACCESS_TOKEN = os.getenv(\"GITHUB_ACCESS_TOKEN\")\n",
    "LANGCHAIN_API_KEY = os.getenv(\"LANGCHAIN_API_KEY\")\n",
    "GEMINI_API_KEY = os.getenv(\"GEMINI_API_KEY\")\n",
    "TAVILY_API_KEY = os.getenv(\"TAVILY_API_KEY\")\n",
    "OPENAI_API_KEY = os.getenv(\"OPENAI_API_KEY\")"
   ]
  },
  {
   "cell_type": "code",
   "execution_count": 26,
   "metadata": {},
   "outputs": [],
   "source": [
    "# Let's define a custom tool by subclassing the BaseTool class (from langchain)\n",
    "\n",
    "class GithubUserCredentials(BaseModel):\n",
    "    username: str = Field(description=\"Github username\")\n",
    "    github_access_token: str = Field(description=\"Github access token\")\n",
    "    \n",
    "class GithubActivityTool(BaseTool):\n",
    "    name = \"Github_Activity_Tool\"\n",
    "    description = \"useful for when you need to track user's github activity / events\"\n",
    "    args_schema: Type[BaseModel] = GithubUserCredentials\n",
    "\n",
    "    def _run(self, username, github_access_token):\n",
    "        url = f\"https://api.github.com/users/{username}/events\"\n",
    "        headers = {\"Authorization\": f\"token {github_access_token}\"}\n",
    "\n",
    "        response = requests.get(url, headers=headers)\n",
    "        response.raise_for_status()  # Raise an exception for HTTP errors\n",
    "\n",
    "        events_data = response.json()\n",
    "        return events_data"
   ]
  },
  {
   "cell_type": "code",
   "execution_count": 27,
   "metadata": {},
   "outputs": [
    {
     "name": "stdout",
     "output_type": "stream",
     "text": [
      "Github_Activity_Tool\n",
      "useful for when you need to track user's github activity / events\n",
      "{'username': {'title': 'Username', 'description': 'Github username', 'type': 'string'}, 'github_access_token': {'title': 'Github Access Token', 'description': 'Github access token', 'type': 'string'}}\n"
     ]
    }
   ],
   "source": [
    "github_event_search = GithubActivityTool()\n",
    "print(github_event_search.name)\n",
    "print(github_event_search.description)\n",
    "print(github_event_search.args)"
   ]
  },
  {
   "cell_type": "code",
   "execution_count": 28,
   "metadata": {},
   "outputs": [],
   "source": [
    "llm = ChatOpenAI(model=\"gpt-4o\")\n",
    "tools = [GithubActivityTool()]"
   ]
  },
  {
   "cell_type": "code",
   "execution_count": 33,
   "metadata": {},
   "outputs": [],
   "source": [
    "system_message = \"You are a helpful assistant that specializes in tracking user's recent github activity.\"\n",
    "\n",
    "memory = MemorySaver()\n",
    "app = create_react_agent(\n",
    "    llm, tools, messages_modifier=system_message, checkpointer=memory\n",
    ")"
   ]
  },
  {
   "cell_type": "code",
   "execution_count": 34,
   "metadata": {},
   "outputs": [
    {
     "name": "stdout",
     "output_type": "stream",
     "text": [
      "### Recent GitHub Activity Summary for User **whanyu1212**\n",
      "\n",
      "1. **MemberEvent**: Added a new member `Yuxuan1998` to the repository `whanyu1212/Transcendent`.\n",
      "2. **PushEvent**: Multiple commits to `whanyu1212/Transcendent`:\n",
      "   - Example on GitHub events summary.\n",
      "   - Added JSON into `.gitignore`.\n",
      "   - Added an example on retrieving GitHub events.\n",
      "   - Minor font changes.\n",
      "   - Added to the existing to-do list.\n",
      "   - Added a simple to-do list in `README`.\n",
      "   - README draft.\n",
      "   - Setting up pre-commit hooks.\n",
      "   - Initial dependencies.\n",
      "3. **PublicEvent**: Made the repository `whanyu1212/LLM-agent-with-Gemini` public.\n",
      "4. **PullRequestEvent**: Opened and merged a pull request titled \"todo list in read me\" in the repository `whanyu1212/Transcendent`.\n",
      "5. **CreateEvent**: Created the branch `hy-dev` in the repository `whanyu1212/Transcendent`.\n",
      "6. **WatchEvent**: Starred multiple repositories including:\n",
      "   - `OthersideAI/self-operating-computer`\n",
      "   - `chiphuyen/machine-learning-systems-design`\n",
      "   - `chiphuyen/python-is-cool`\n",
      "   - `chiphuyen/ml-interviews-book`\n",
      "   - `ibis-project/ibis`\n",
      "   - `microsoft/autogen`\n",
      "   - `alexeygrigorev/data-science-interviews`\n",
      "   - `youssefHosni/Data-Science-Interview-Questions-Answers`\n",
      "   - `aaronwangy/Data-Science-Cheatsheet`\n",
      "   - `khanhnamle1994/cracking-the-data-science-interview`\n",
      "7. **CreateEvent**: Created the repository `whanyu1212/Transcendent`.\n",
      "\n",
      "### Frequency Table of Different Types of Events\n",
      "\n",
      "| Event Type        | Frequency |\n",
      "|-------------------|-----------|\n",
      "| PushEvent         | 16        |\n",
      "| WatchEvent        | 10        |\n",
      "| CreateEvent       | 6         |\n",
      "| PullRequestEvent  | 2         |\n",
      "| PublicEvent       | 1         |\n",
      "| MemberEvent       | 1         |\n",
      "\n",
      "### Detailed Breakdown of Push Events\n",
      "- **Transcendent** Repository:\n",
      "  - **Commit Messages**:\n",
      "    - Example on GitHub events summary.\n",
      "    - Added JSON into `.gitignore`.\n",
      "    - Added an example on retrieving GitHub events.\n",
      "    - Minor font changes.\n",
      "    - Added to the existing to-do list.\n",
      "    - Added a simple to-do list in `README`.\n",
      "    - README draft.\n",
      "    - Setting up pre-commit hooks.\n",
      "    - Initial dependencies.\n",
      "\n",
      "### Detailed Breakdown of Pull Request Events\n",
      "- **Transcendent** Repository:\n",
      "  - **Pull Requests**:\n",
      "    - `#1`: todo list in read me (opened and merged).\n",
      "\n",
      "### Starred Repositories\n",
      "- **OthersideAI/self-operating-computer**\n",
      "- **chiphuyen/machine-learning-systems-design**\n",
      "- **chiphuyen/python-is-cool**\n",
      "- **chiphuyen/ml-interviews-book**\n",
      "- **ibis-project/ibis**\n",
      "- **microsoft/autogen**\n",
      "- **alexeygrigorev/data-science-interviews**\n",
      "- **youssefHosni/Data-Science-Interview-Questions-Answers**\n",
      "- **aaronwangy/Data-Science-Cheatsheet**\n",
      "- **khanhnamle1994/cracking-the-data-science-interview**\n"
     ]
    }
   ],
   "source": [
    "config = {\"configurable\": {\"thread_id\": \"test-thread\"}}\n",
    "print(\n",
    "    app.invoke(\n",
    "        {\n",
    "            \"messages\": [\n",
    "                (\"user\", f\"whanyu1212, {GITHUB_ACCESS_TOKEN}. Return the summarized text as well as the frequency table of different types of events.\"),\n",
    "            ]\n",
    "        },\n",
    "        config,\n",
    "    )[\"messages\"][-1].content)"
   ]
  }
 ],
 "metadata": {
  "language_info": {
   "name": "python"
  }
 },
 "nbformat": 4,
 "nbformat_minor": 2
}
